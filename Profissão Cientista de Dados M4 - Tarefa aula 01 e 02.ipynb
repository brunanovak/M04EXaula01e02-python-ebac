{
 "cells": [
  {
   "cell_type": "markdown",
   "metadata": {},
   "source": [
    "# Tarefa 01\n",
    "\n",
    "- Leia os enunciados com atenção\n",
    "- Saiba que pode haver mais de uma resposta correta\n",
    "- Insira novas células de código sempre que achar necessário\n",
    "- Em caso de dúvidas, procure os tutores\n",
    "- Divirta-se :)\n",
    "\n",
    "#### 1)  crie uma série do pandas a partir de uma lista com os dados abaixo:\n",
    "\n",
    "Em um estudo sobre alteração na tempreatura global, A NASA disponibiliza dados de diferenças de de temperatura média da superfície terrestre relativos às médias de temperatura entre 1951 e 1980. Os dados originais podem ser vistos no site da NASA/GISS, e estão dispostos a cada década na tabela abaixo.\n",
    "\n",
    "|ano|anomalia termica|\n",
    "|:-:|:----:|\n",
    "| 1900 | -0.08 |\n",
    "| 1920 | -0.27 |\n",
    "| 1940 | 0.12 |\n",
    "| 1960 | -0.03 |\n",
    "| 1980 | 0.26 |\n",
    "| 2000 | 0.40 |\n",
    "| 2020 | 1.02 |\n",
    "\n",
    "Crie uma séries do Pandas a partir de uma lista com esses dados."
   ]
  },
  {
   "cell_type": "code",
   "execution_count": 1,
   "metadata": {},
   "outputs": [
    {
     "data": {
      "text/plain": [
       "0   -0.08\n",
       "1   -0.27\n",
       "2    0.12\n",
       "3   -0.03\n",
       "4    0.26\n",
       "5    0.40\n",
       "6    1.02\n",
       "dtype: float64"
      ]
     },
     "execution_count": 1,
     "metadata": {},
     "output_type": "execute_result"
    }
   ],
   "source": [
    "import pandas as pd\n",
    "import numpy as np\n",
    "\n",
    "# Seu código aqui\n",
    "\n",
    "lista = pd.Series([-0.08, -0.27, 0.12, -0.03, 0.26, 0.40, 1.02])\n",
    "lista                   "
   ]
  },
  {
   "cell_type": "markdown",
   "metadata": {},
   "source": [
    "#### 2) Coloque os anos nos índices conforme a tabela."
   ]
  },
  {
   "cell_type": "code",
   "execution_count": 5,
   "metadata": {},
   "outputs": [
    {
     "data": {
      "text/plain": [
       "1900   -0.08\n",
       "1920   -0.27\n",
       "1940    0.12\n",
       "1960   -0.03\n",
       "1980    0.26\n",
       "2000    0.40\n",
       "2020    1.02\n",
       "dtype: float64"
      ]
     },
     "execution_count": 5,
     "metadata": {},
     "output_type": "execute_result"
    }
   ],
   "source": [
    "# seu código aqui\n",
    "lista = pd.Series([-0.08, -0.27, 0.12, -0.03, 0.26, 0.40, 1.02],\n",
    "                 index=['1900', '1920', '1940', '1960', '1980', '2000', '2020'])\n",
    "lista"
   ]
  },
  {
   "cell_type": "markdown",
   "metadata": {},
   "source": [
    "#### 3) A partir do dicionário abaixo, crie uma séries do Pandas:"
   ]
  },
  {
   "cell_type": "code",
   "execution_count": 6,
   "metadata": {},
   "outputs": [
    {
     "data": {
      "text/plain": [
       "1900   -0.08\n",
       "1920   -0.27\n",
       "1940    0.12\n",
       "1960   -0.03\n",
       "1980    0.26\n",
       "2000    0.40\n",
       "2020    1.02\n",
       "dtype: float64"
      ]
     },
     "execution_count": 6,
     "metadata": {},
     "output_type": "execute_result"
    }
   ],
   "source": [
    "dic_temperaturas = {1900: -.08, 1920: -.27, 1940: .12, 1960: -.03, 1980: .26, 2000: .40, 2020: 1.02}\n",
    "\n",
    "# seu código aqui\n",
    "\n",
    "temperaturas_series = pd.Series(dic_temperaturas)\n",
    "temperaturas_series"
   ]
  },
  {
   "cell_type": "markdown",
   "metadata": {},
   "source": [
    "#### 4) Transforme o ndarray abaixo em um dataframe. \n",
    "O numpy é capaz de gerar arrays n-dimensionais com números pseudo-aleatórios de acordo com uma variedade de distribuições, como no exemplo abaixo. Transforme esse nd-array em um DataFrame."
   ]
  },
  {
   "cell_type": "code",
   "execution_count": 8,
   "metadata": {},
   "outputs": [
    {
     "name": "stdout",
     "output_type": "stream",
     "text": [
      "      Coluna_1    Coluna_2    Coluna_3\n",
      "0    98.168884   92.930897  111.132342\n",
      "1   106.978588   78.796135  104.114900\n",
      "2   102.538995  121.473031   87.796772\n",
      "3    78.878116   95.657371   94.046970\n",
      "4   112.836699   93.261177  108.286078\n",
      "5    86.006808   93.506145   76.366767\n",
      "6    91.983185   91.555903   92.678547\n",
      "7   100.759043   95.913665   92.022222\n",
      "8    92.074395   90.537133   81.610764\n",
      "9    92.253769  103.047387   95.023841\n",
      "10  115.377459   99.384684   87.410384\n",
      "11   98.114352  106.640203   86.484867\n",
      "12   99.761355   81.926284  102.576344\n",
      "13  104.663385   98.132852   99.800401\n",
      "14  103.722129  108.084560   96.431987\n",
      "15   97.146472  102.477424   88.104327\n",
      "16  103.666998   99.742877  114.426350\n",
      "17  106.051316  100.174970   90.856898\n",
      "18  100.645423   95.192356   97.030880\n",
      "19  101.416687  110.655570  101.262930\n"
     ]
    }
   ],
   "source": [
    "arr = np.random.normal(100, 10, (20,3))\n",
    "\n",
    "# seu código aqui\n",
    "df = pd.DataFrame(arr, columns=['Coluna_1', 'Coluna_2', 'Coluna_3'])\n",
    "print(df)"
   ]
  },
  {
   "cell_type": "markdown",
   "metadata": {},
   "source": [
    "#### 5) Nomeie os índices das linhas com inteiros de 1 a 20, e as colunas com os nomes \"x1\", \"x2\", e \"x3\" respectivamente."
   ]
  },
  {
   "cell_type": "code",
   "execution_count": 9,
   "metadata": {},
   "outputs": [
    {
     "name": "stdout",
     "output_type": "stream",
     "text": [
      "            x1          x2          x3\n",
      "1    98.168884   92.930897  111.132342\n",
      "2   106.978588   78.796135  104.114900\n",
      "3   102.538995  121.473031   87.796772\n",
      "4    78.878116   95.657371   94.046970\n",
      "5   112.836699   93.261177  108.286078\n",
      "6    86.006808   93.506145   76.366767\n",
      "7    91.983185   91.555903   92.678547\n",
      "8   100.759043   95.913665   92.022222\n",
      "9    92.074395   90.537133   81.610764\n",
      "10   92.253769  103.047387   95.023841\n",
      "11  115.377459   99.384684   87.410384\n",
      "12   98.114352  106.640203   86.484867\n",
      "13   99.761355   81.926284  102.576344\n",
      "14  104.663385   98.132852   99.800401\n",
      "15  103.722129  108.084560   96.431987\n",
      "16   97.146472  102.477424   88.104327\n",
      "17  103.666998   99.742877  114.426350\n",
      "18  106.051316  100.174970   90.856898\n",
      "19  100.645423   95.192356   97.030880\n",
      "20  101.416687  110.655570  101.262930\n"
     ]
    }
   ],
   "source": [
    "#seu código aqui\n",
    "df = pd.DataFrame(\n",
    "    arr,\n",
    "    columns=['x1', 'x2', 'x3'], \n",
    "    index=range(1, 21)            \n",
    ")\n",
    "print(df)"
   ]
  },
  {
   "cell_type": "markdown",
   "metadata": {},
   "source": [
    "#### 6) No DataFrame do exercício 5, crie uma nova coluna como sendo a média das três colunas, e dê a ela o nome de \"media\" (não recomendo colocar acentos em nomes de variáveis)."
   ]
  },
  {
   "cell_type": "code",
   "execution_count": 10,
   "metadata": {},
   "outputs": [
    {
     "name": "stdout",
     "output_type": "stream",
     "text": [
      "        x1      x2      x3   media\n",
      "1    98.17   92.93  111.13  100.74\n",
      "2   106.98   78.80  104.11   96.63\n",
      "3   102.54  121.47   87.80  103.94\n",
      "4    78.88   95.66   94.05   89.53\n",
      "5   112.84   93.26  108.29  104.79\n",
      "6    86.01   93.51   76.37   85.29\n",
      "7    91.98   91.56   92.68   92.07\n",
      "8   100.76   95.91   92.02   96.23\n",
      "9    92.07   90.54   81.61   88.07\n",
      "10   92.25  103.05   95.02   96.77\n",
      "11  115.38   99.38   87.41  100.72\n",
      "12   98.11  106.64   86.48   97.08\n",
      "13   99.76   81.93  102.58   94.75\n",
      "14  104.66   98.13   99.80  100.87\n",
      "15  103.72  108.08   96.43  102.75\n",
      "16   97.15  102.48   88.10   95.91\n",
      "17  103.67   99.74  114.43  105.95\n",
      "18  106.05  100.17   90.86   99.03\n",
      "19  100.65   95.19   97.03   97.62\n",
      "20  101.42  110.66  101.26  104.45\n"
     ]
    }
   ],
   "source": [
    "# seu código aqui\n",
    "df['media'] = df.mean(axis=1)\n",
    "\n",
    "df = df.round(2)\n",
    "\n",
    "print(df)"
   ]
  },
  {
   "cell_type": "markdown",
   "metadata": {},
   "source": [
    "#### 7) No DataFrame do exercício 6, crie uma nova coluna chamada \"log_med\", contendo o logaritmo natural da média calculada no exercício 6 <br>"
   ]
  },
  {
   "cell_type": "code",
   "execution_count": 11,
   "metadata": {},
   "outputs": [
    {
     "name": "stdout",
     "output_type": "stream",
     "text": [
      "        x1      x2      x3   media  log_med\n",
      "1    98.17   92.93  111.13  100.74   4.6125\n",
      "2   106.98   78.80  104.11   96.63   4.5709\n",
      "3   102.54  121.47   87.80  103.94   4.6438\n",
      "4    78.88   95.66   94.05   89.53   4.4946\n",
      "5   112.84   93.26  108.29  104.79   4.6520\n",
      "6    86.01   93.51   76.37   85.29   4.4461\n",
      "7    91.98   91.56   92.68   92.07   4.5225\n",
      "8   100.76   95.91   92.02   96.23   4.5667\n",
      "9    92.07   90.54   81.61   88.07   4.4781\n",
      "10   92.25  103.05   95.02   96.77   4.5723\n",
      "11  115.38   99.38   87.41  100.72   4.6123\n",
      "12   98.11  106.64   86.48   97.08   4.5755\n",
      "13   99.76   81.93  102.58   94.75   4.5512\n",
      "14  104.66   98.13   99.80  100.87   4.6138\n",
      "15  103.72  108.08   96.43  102.75   4.6323\n",
      "16   97.15  102.48   88.10   95.91   4.5634\n",
      "17  103.67   99.74  114.43  105.95   4.6630\n",
      "18  106.05  100.17   90.86   99.03   4.5954\n",
      "19  100.65   95.19   97.03   97.62   4.5811\n",
      "20  101.42  110.66  101.26  104.45   4.6487\n"
     ]
    }
   ],
   "source": [
    "# seu código aqui\n",
    "df['log_med'] = np.log(df['media']).round(4)\n",
    "\n",
    "print(df)"
   ]
  }
 ],
 "metadata": {
  "kernelspec": {
   "display_name": "Python [conda env:base] *",
   "language": "python",
   "name": "conda-base-py"
  },
  "language_info": {
   "codemirror_mode": {
    "name": "ipython",
    "version": 3
   },
   "file_extension": ".py",
   "mimetype": "text/x-python",
   "name": "python",
   "nbconvert_exporter": "python",
   "pygments_lexer": "ipython3",
   "version": "3.12.7"
  }
 },
 "nbformat": 4,
 "nbformat_minor": 4
}
